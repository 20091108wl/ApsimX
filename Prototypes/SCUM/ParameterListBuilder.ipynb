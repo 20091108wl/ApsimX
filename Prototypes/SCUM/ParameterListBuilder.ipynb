{
 "cells": [
  {
   "cell_type": "code",
   "execution_count": 444,
   "metadata": {
    "collapsed": false
   },
   "outputs": [],
   "source": [
    "import datetime\n",
    "import pandas as pd\n",
    "import numpy as np\n",
    "import matplotlib.pyplot as plt\n",
    "import xml.etree.ElementTree as ET"
   ]
  },
  {
   "cell_type": "markdown",
   "metadata": {},
   "source": [
    "##Read in the core parameters taken from Overseer"
   ]
  },
  {
   "cell_type": "code",
   "execution_count": 445,
   "metadata": {
    "collapsed": false
   },
   "outputs": [],
   "source": [
    "#ReadData\n",
    "CoreParams = pd.read_excel('.\\CropCoeff.xlsx', sheetname='CoreParams')\n",
    "#Fix names\n",
    "CoreParams['Crop'] = [str(CoreParams.ix[X,'Crop']).replace(\" (\",\"_\") for X in range(CoreParams.index.size)]\n",
    "CoreParams['Crop'] = [str(CoreParams.ix[X,'Crop']).replace(\"(\",\"_\") for X in range(CoreParams.index.size)]\n",
    "CoreParams['Crop'] = [str(CoreParams.ix[X,'Crop']).replace(\")\",\"\") for X in range(CoreParams.index.size)]\n",
    "CoreParams['Crop'] = [str(CoreParams.ix[X,'Crop']).replace(\"/\",\"_\") for X in range(CoreParams.index.size)]\n",
    "CoreParams['Crop'] = [str(CoreParams.ix[X,'Crop']).replace(\" \",\"\") for X in range(CoreParams.index.size)]\n",
    "#SetIndex\n",
    "CoreParams.set_index('Crop', inplace=True,drop=True)\n",
    "#some useful lists\n",
    "SCUMParamList = ['[Root].MaximumRootDepth.Value',\n",
    "                '[Root].KLModifier.XYPairs.Y' ,\n",
    "                '[Stover].CoverFunction.Expanding.SigCoverFunction.Xo.Value' ,\n",
    "                '[Stover].CoverFunction.Expanding.SigCoverFunction.b.Value',\n",
    "                '[Stover].CoverFunction.Expanding.SigCoverFunction.Ymax.Value' ,\n",
    "                '[Stover].XoBiomass.Value',\n",
    "                '[Stover].bBiomass.Value' ,\n",
    "                '[Product].ExpectedYield.Value',\n",
    "                '[Root].RootProportion.Value' ,\n",
    "                '[Product].HarvestIndex.Value' ,\n",
    "                '[Product].DryMatterContent.Value' ,\n",
    "                '[Phenology].CanopyExpanding.Target.Value' ,\n",
    "                '[Phenology].YieldIncreasing.Target.Value',\n",
    "                '[Phenology].Senescing.Target.Value',\n",
    "                '[Stover].NConc.Value',\n",
    "                '[Product].MinimumNConc.Value',\n",
    "                '[Product].MaximumNConc.Value',\n",
    "                '[Root].MinimumNConc.Value',\n",
    "                '[Root].MaximumNConc.Value',\n",
    "                '[Nodule].NFixationOption']\n",
    "CropList = CoreParams.index.tolist()\n",
    "CropList.sort()\n",
    "SCUMParamList.sort()"
   ]
  },
  {
   "cell_type": "markdown",
   "metadata": {},
   "source": [
    "##Set up working dataframes"
   ]
  },
  {
   "cell_type": "code",
   "execution_count": 446,
   "metadata": {
    "collapsed": false
   },
   "outputs": [],
   "source": [
    "Step1 = CoreParams.ix[:,~(CoreParams.columns == 'TT_Sen')].copy()\n",
    "SCUMParams = Step1.ix[:,~(Step1.columns == 'TT_Mat')].copy()\n",
    "SCUMParams['[Nodule].NFixationOption'] = [str(SCUMParams.ix[X,'[Nodule].NFixationOption']).replace(\"'\",\"\") for X in range(SCUMParams.index.size)]\n",
    "AncillaryParams = pd.DataFrame(index=CoreParams.index)"
   ]
  },
  {
   "cell_type": "markdown",
   "metadata": {},
   "source": [
    "##Do some simple calculations first"
   ]
  },
  {
   "cell_type": "code",
   "execution_count": 447,
   "metadata": {
    "collapsed": false
   },
   "outputs": [],
   "source": [
    "#Calculate the inflection point ot the DM sigmoid as 50% of the crops duration\n",
    "SCUMParams['[Stover].XoBiomass.Value'] = np.round(CoreParams.TT_Mat*0.5,0)\n",
    "#The curvature parameter of the DM sigmoid is 1/5 of the inflection point\n",
    "SCUMParams['[Stover].bBiomass.Value'] = np.round(SCUMParams['[Stover].XoBiomass.Value']*0.2,0)\n",
    "#The duration of the Phase from the start to end of senescence is the total tt accumulated to mat less that to sen\n",
    "SCUMParams['[Phenology].Senescing.Target.Value'] = CoreParams['TT_Mat'] - CoreParams['TT_Sen']                                                       "
   ]
  },
  {
   "cell_type": "markdown",
   "metadata": {},
   "source": [
    "##Then calculate some additional values that will be needed for other parameters"
   ]
  },
  {
   "cell_type": "code",
   "execution_count": 448,
   "metadata": {
    "collapsed": false
   },
   "outputs": [],
   "source": [
    "#The total amount of biomass if the yield of the crop reached the expected value\n",
    "AncillaryParams['YMax'] = (SCUMParams['[Product].ExpectedYield.Value']* \\\n",
    "                          SCUMParams['[Product].DryMatterContent.Value'])/  \\\n",
    "                          (1-SCUMParams['[Root].RootProportion.Value'])/ \\\n",
    "                          SCUMParams['[Product].HarvestIndex.Value']\n",
    "\n",
    "#The amount of DM at maturity will be slightly less than YMax because the sigmoid won't have reached its asymtote by then\n",
    "AncillaryParams['DMatMatur'] = AncillaryParams['YMax'] * \\\n",
    "                               1/(1+np.exp(-(CoreParams['TT_Mat']-\\\n",
    "                                             SCUMParams['[Stover].XoBiomass.Value'])/\\\n",
    "                                           SCUMParams['[Stover].bBiomass.Value']))\n",
    "#Root DM at this point is a function of root Proportion\n",
    "AncillaryParams['RootDM'] =  AncillaryParams['DMatMatur'] * SCUMParams['[Root].RootProportion.Value']\n",
    "#Product DM at this point is a function of harvest index\n",
    "AncillaryParams['ProductDM'] = (AncillaryParams['DMatMatur'] - \\\n",
    "                                AncillaryParams['RootDM']) * \\\n",
    "                                SCUMParams['[Product].HarvestIndex.Value']\n",
    "#Stover DM is the residual\n",
    "AncillaryParams['StoverDM'] = AncillaryParams['DMatMatur'] - \\\n",
    "                              AncillaryParams['RootDM'] - \\\n",
    "                              AncillaryParams['ProductDM']\n",
    "#We are assuming 20% of the stover biomass is produced during the reproductive phase\n",
    "AncillaryParams['StoverInRepro'] = AncillaryParams['StoverDM'] * 0.2\n",
    "#So the amount of biomass at the start of the reproductive phase will be 80% of the total stover \n",
    "#adjusted to account for root proportion\n",
    "AncillaryParams['DMatStartRepro'] = (AncillaryParams['StoverDM'] - \\\n",
    "                                    AncillaryParams['StoverInRepro']) * \\\n",
    "                                    (1+SCUMParams['[Root].RootProportion.Value'])\n",
    "#Then we can invert the DM sigmoid to work out how much Tt has passed when this amout of biomass has accumulated\n",
    "AncillaryParams['TtatStartRepro'] = np.log(1/(AncillaryParams['DMatStartRepro']/\\\n",
    "                                          AncillaryParams['DMatMatur'])-1) * \\\n",
    "                                        SCUMParams['[Stover].bBiomass.Value'] * -1 + \\\n",
    "                                        SCUMParams['[Stover].XoBiomass.Value']"
   ]
  },
  {
   "cell_type": "markdown",
   "metadata": {},
   "source": [
    "##Calculate remaining Phenology parameters"
   ]
  },
  {
   "cell_type": "code",
   "execution_count": 449,
   "metadata": {
    "collapsed": true
   },
   "outputs": [],
   "source": [
    "#The tt duration of the canopy expanding (vegetative) phase\n",
    "SCUMParams['[Phenology].CanopyExpanding.Target.Value'] = np.round(AncillaryParams['TtatStartRepro'],0)\n",
    "#The tt duration of the yield increasing phase (growing reproductive DM and canopy not senescing)\n",
    "#is what is left of thermal time to start of senescence after the vegetative phase is taken out\n",
    "SCUMParams['[Phenology].YieldIncreasing.Target.Value'] = np.round(CoreParams['TT_Sen'] - SCUMParams['[Phenology].CanopyExpanding.Target.Value'],0)"
   ]
  },
  {
   "cell_type": "markdown",
   "metadata": {},
   "source": [
    "##Generate arays of kl modifier values, adjusted for root depth"
   ]
  },
  {
   "cell_type": "code",
   "execution_count": 450,
   "metadata": {
    "collapsed": false
   },
   "outputs": [],
   "source": [
    "def StringMaker(DepthInts,RootDepth):\n",
    "    YArray = ''\n",
    "    for Depth in DepthInts:\n",
    "        if Depth > 0:\n",
    "            YArray += ','\n",
    "        if Depth < RootDepth:\n",
    "            klFact = 1*np.exp(-.002*(1500/RootDepth)*Depth)\n",
    "        else:\n",
    "            klFact = 0\n",
    "        klFact = np.round(klFact,3)\n",
    "        YArray += str(klFact)\n",
    "    return YArray\n",
    "\n",
    "DepthInts = range(0,1499,50)\n",
    "SCUMParams['[Root].KLModifier.XYPairs.Y'] = \\\n",
    "    [StringMaker(DepthInts,SCUMParams.ix[X,'[Root].MaximumRootDepth.Value']) \\\n",
    "     for X in range(SCUMParams.index.size)]"
   ]
  },
  {
   "cell_type": "markdown",
   "metadata": {},
   "source": [
    "##Build XML and write to file"
   ]
  },
  {
   "cell_type": "code",
   "execution_count": 451,
   "metadata": {
    "collapsed": false
   },
   "outputs": [],
   "source": [
    "Crops = ET.Element('Crops')\n",
    "for Crop in CropList:\n",
    "    CropElement = ET.SubElement(Crops, 'Cultivar')\n",
    "    NameTag = ET.SubElement(CropElement, 'Name')\n",
    "    NameTag.text = str(Crop)\n",
    "    for Param in SCUMParamList:\n",
    "        Command = ET.SubElement(CropElement,'Command')\n",
    "        Command.text = str(Param + ' = ' + str(SCUMParams.ix[Crop,Param]))\n",
    "\n",
    "ET.ElementTree(Crops).write('.\\Crop.xml')"
   ]
  }
 ],
 "metadata": {
  "kernelspec": {
   "display_name": "Python 2",
   "language": "python",
   "name": "python2"
  },
  "language_info": {
   "codemirror_mode": {
    "name": "ipython",
    "version": 2
   },
   "file_extension": ".py",
   "mimetype": "text/x-python",
   "name": "python",
   "nbconvert_exporter": "python",
   "pygments_lexer": "ipython2",
   "version": "2.7.10"
  }
 },
 "nbformat": 4,
 "nbformat_minor": 0
}
